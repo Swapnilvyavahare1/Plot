{
 "cells": [
  {
   "cell_type": "code",
   "execution_count": 1,
   "id": "78f9acdf",
   "metadata": {},
   "outputs": [
    {
     "name": "stdout",
     "output_type": "stream",
     "text": [
      "Defaulting to user installation because normal site-packages is not writeable\n",
      "Requirement already satisfied: graphviz in c:\\users\\dell 2\\appdata\\roaming\\python\\python39\\site-packages (0.20.1)\n"
     ]
    }
   ],
   "source": [
    "!pip install graphviz"
   ]
  },
  {
   "cell_type": "code",
   "execution_count": 2,
   "id": "67159d21",
   "metadata": {},
   "outputs": [],
   "source": [
    "import os\n",
    "os.environ[\"PATH\"] += os.pathsep + 'C:/Program Files (x86)/Graphviz2.38/bin/'"
   ]
  },
  {
   "cell_type": "code",
   "execution_count": 20,
   "id": "8231be39",
   "metadata": {},
   "outputs": [
    {
     "data": {
      "text/plain": [
       "'data_science_flowchart.png'"
      ]
     },
     "execution_count": 20,
     "metadata": {},
     "output_type": "execute_result"
    }
   ],
   "source": [
    "from graphviz import Graph \n",
    "\n",
    "# Instantiate a new Graph object\n",
    "dot = Graph('Data Science Process', format='png')\n",
    "\n",
    "# Add nodes\n",
    "dot.node('A', 'Get Data')\n",
    "dot.node('B', 'Clean, Prepare, & Manipulate Data')\n",
    "dot.node('C', 'Train Model')\n",
    "dot.node('D', 'Test Data')\n",
    "dot.node('E', 'Improve')\n",
    "\n",
    "# Connect these nodes\n",
    "dot.edges(['AB', 'AC', 'BD','CD', 'AE'])\n",
    "\n",
    "# Save chart\n",
    "dot.render('data_science_flowchart', view=True)"
   ]
  },
  {
   "attachments": {
    "data_science_flowchart.png": {
     "image/png": "[encoded data removed]"
    }
   },
   "cell_type": "markdown",
   "id": "aa7cbbdc",
   "metadata": {},
   "source": [
    "![data_science_flowchart.png](attachment:data_science_flowchart.png)"
   ]
  },
  {
   "cell_type": "code",
   "execution_count": 19,
   "id": "0ae8eada",
   "metadata": {},
   "outputs": [
    {
     "name": "stdout",
     "output_type": "stream",
     "text": [
      "The equation is:\n"
     ]
    },
    {
     "data": {
      "text/latex": [
       "$\\displaystyle y= (3x+5+3x^2+10^3)/(3x+5+3x^2+10^3)$"
      ],
      "text/plain": [
       "<IPython.core.display.Math object>"
      ]
     },
     "metadata": {},
     "output_type": "display_data"
    }
   ],
   "source": [
    "from IPython.display import display, Math, Latex\n",
    "\n",
    "a = 3\n",
    "b = 5\n",
    "print(\"The equation is:\")\n",
    "display(Math(f'y= ({a}x+{b}+3x^2+10^3)/({a}x+{b}+3x^2+10^3)'))"
   ]
  },
  {
   "cell_type": "code",
   "execution_count": 7,
   "id": "7bee8a2e",
   "metadata": {
    "scrolled": true
   },
   "outputs": [
    {
     "name": "stdout",
     "output_type": "stream",
     "text": [
      "Defaulting to user installation because normal site-packages is not writeable\n",
      "Collecting watermark\n",
      "  Downloading watermark-2.3.1-py2.py3-none-any.whl (7.2 kB)\n",
      "Requirement already satisfied: ipython in c:\\anaconda\\lib\\site-packages (from watermark) (8.2.0)\n",
      "Requirement already satisfied: decorator in c:\\anaconda\\lib\\site-packages (from ipython->watermark) (5.1.1)\n",
      "Requirement already satisfied: traitlets>=5 in c:\\anaconda\\lib\\site-packages (from ipython->watermark) (5.1.1)\n",
      "Requirement already satisfied: setuptools>=18.5 in c:\\anaconda\\lib\\site-packages (from ipython->watermark) (61.2.0)\n",
      "Requirement already satisfied: colorama in c:\\anaconda\\lib\\site-packages (from ipython->watermark) (0.4.4)\n",
      "Requirement already satisfied: prompt-toolkit!=3.0.0,!=3.0.1,<3.1.0,>=2.0.0 in c:\\anaconda\\lib\\site-packages (from ipython->watermark) (3.0.20)\n",
      "Requirement already satisfied: pickleshare in c:\\anaconda\\lib\\site-packages (from ipython->watermark) (0.7.5)\n",
      "Requirement already satisfied: matplotlib-inline in c:\\anaconda\\lib\\site-packages (from ipython->watermark) (0.1.2)\n",
      "Requirement already satisfied: jedi>=0.16 in c:\\anaconda\\lib\\site-packages (from ipython->watermark) (0.18.1)\n",
      "Requirement already satisfied: backcall in c:\\anaconda\\lib\\site-packages (from ipython->watermark) (0.2.0)\n",
      "Requirement already satisfied: stack-data in c:\\anaconda\\lib\\site-packages (from ipython->watermark) (0.2.0)\n",
      "Requirement already satisfied: pygments>=2.4.0 in c:\\anaconda\\lib\\site-packages (from ipython->watermark) (2.11.2)\n",
      "Requirement already satisfied: parso<0.9.0,>=0.8.0 in c:\\anaconda\\lib\\site-packages (from jedi>=0.16->ipython->watermark) (0.8.3)\n",
      "Requirement already satisfied: wcwidth in c:\\anaconda\\lib\\site-packages (from prompt-toolkit!=3.0.0,!=3.0.1,<3.1.0,>=2.0.0->ipython->watermark) (0.2.5)\n",
      "Requirement already satisfied: asttokens in c:\\anaconda\\lib\\site-packages (from stack-data->ipython->watermark) (2.0.5)\n",
      "Requirement already satisfied: pure-eval in c:\\anaconda\\lib\\site-packages (from stack-data->ipython->watermark) (0.2.2)\n",
      "Requirement already satisfied: executing in c:\\anaconda\\lib\\site-packages (from stack-data->ipython->watermark) (0.8.3)\n",
      "Requirement already satisfied: six in c:\\anaconda\\lib\\site-packages (from asttokens->stack-data->ipython->watermark) (1.16.0)\n",
      "Installing collected packages: watermark\n",
      "Successfully installed watermark-2.3.1\n"
     ]
    }
   ],
   "source": [
    "!pip install watermark"
   ]
  },
  {
   "cell_type": "code",
   "execution_count": 8,
   "id": "8b97d153",
   "metadata": {},
   "outputs": [],
   "source": [
    "%load_ext watermark"
   ]
  },
  {
   "cell_type": "code",
   "execution_count": 9,
   "id": "62ad90e8",
   "metadata": {},
   "outputs": [
    {
     "name": "stdout",
     "output_type": "stream",
     "text": [
      "Last updated: 2022-12-04T08:50:40.639792+05:30\n",
      "\n",
      "Python implementation: CPython\n",
      "Python version       : 3.9.12\n",
      "IPython version      : 8.2.0\n",
      "\n",
      "Compiler    : MSC v.1916 64 bit (AMD64)\n",
      "OS          : Windows\n",
      "Release     : 10\n",
      "Machine     : AMD64\n",
      "Processor   : Intel64 Family 6 Model 140 Stepping 1, GenuineIntel\n",
      "CPU cores   : 8\n",
      "Architecture: 64bit\n",
      "\n"
     ]
    }
   ],
   "source": [
    "%watermark"
   ]
  },
  {
   "cell_type": "code",
   "execution_count": 10,
   "id": "d810fc8b",
   "metadata": {},
   "outputs": [],
   "source": [
    "import numpy as np \n",
    "import pandas as pd \n",
    "import sklearn"
   ]
  },
  {
   "cell_type": "code",
   "execution_count": 11,
   "id": "cf7daba2",
   "metadata": {},
   "outputs": [
    {
     "name": "stdout",
     "output_type": "stream",
     "text": [
      "numpy  : 1.21.5\n",
      "pandas : 1.4.2\n",
      "sklearn: 0.0\n",
      "\n"
     ]
    }
   ],
   "source": [
    "%watermark --iversions "
   ]
  },
  {
   "cell_type": "code",
   "execution_count": 4,
   "id": "9edec437",
   "metadata": {},
   "outputs": [
    {
     "name": "stdout",
     "output_type": "stream",
     "text": [
      "Defaulting to user installation because normal site-packages is not writeable\n",
      "Collecting aspose.words\n",
      "  Downloading aspose_words-22.11.0-py3-none-win_amd64.whl (56.3 MB)\n",
      "Installing collected packages: aspose.words\n",
      "Successfully installed aspose.words-22.11.0\n"
     ]
    }
   ],
   "source": [
    "!pip install aspose.words"
   ]
  },
  {
   "cell_type": "code",
   "execution_count": 5,
   "id": "a714cac3",
   "metadata": {},
   "outputs": [
    {
     "data": {
      "text/plain": [
       "<aspose.words.saving.SaveOutputParameters object at 0x000001FB1AA77270>"
      ]
     },
     "execution_count": 5,
     "metadata": {},
     "output_type": "execute_result"
    }
   ],
   "source": [
    "import aspose.words as aw\n",
    "\n",
    "# create document object\n",
    "doc = aw.Document()\n",
    "\n",
    "# create a document builder object\n",
    "builder = aw.DocumentBuilder(doc)\n",
    "\n",
    "# insert table of contents\n",
    "builder.insert_table_of_contents(\"\\\\o \\\"1-3\\\" \\\\h \\\\z \\\\u\")\n",
    "\n",
    "# start the actual document content on the second page\n",
    "builder.insert_break(aw.BreakType.PAGE_BREAK)\n",
    "\n",
    "# add content\n",
    "builder.paragraph_format.style_identifier = aw.StyleIdentifier.HEADING1\n",
    "builder.writeln(\"Heading 1\")\n",
    "\n",
    "builder.paragraph_format.style_identifier = aw.StyleIdentifier.HEADING2\n",
    "builder.writeln(\"Heading 1.1\")\n",
    "builder.writeln(\"Heading 1.2\")\n",
    "\n",
    "builder.paragraph_format.style_identifier = aw.StyleIdentifier.HEADING1\n",
    "builder.writeln(\"Heading 2\")\n",
    "builder.writeln(\"Heading 3\")\n",
    "\n",
    "builder.paragraph_format.style_identifier = aw.StyleIdentifier.HEADING2\n",
    "builder.writeln(\"Heading 3.1\")\n",
    "\n",
    "builder.paragraph_format.style_identifier = aw.StyleIdentifier.HEADING3\n",
    "builder.writeln(\"Heading 3.1.1\")\n",
    "builder.writeln(\"Heading 3.1.2\")\n",
    "builder.writeln(\"Heading 3.1.3\")\n",
    "\n",
    "builder.paragraph_format.style_identifier = aw.StyleIdentifier.HEADING2\n",
    "builder.writeln(\"Heading 3.2\")\n",
    "builder.writeln(\"Heading 3.3\")\n",
    "\n",
    "# the newly inserted table of contents will be initially empty\n",
    "# it needs to be populated by updating the fields in the document\n",
    "doc.update_fields()\n",
    "\n",
    "# save document\n",
    "doc.save(\"out.docx\")"
   ]
  },
  {
   "cell_type": "markdown",
   "id": "35c3d3e3",
   "metadata": {},
   "source": [
    "## Profile"
   ]
  },
  {
   "cell_type": "code",
   "execution_count": 2,
   "id": "b41421c5",
   "metadata": {},
   "outputs": [],
   "source": [
    "import numpy as np\n",
    "import pandas as pd\n",
    "\n",
    "df1 = pd.DataFrame(np.random.rand(100, 5), columns=[\"a\", \"b\", \"c\", \"d\", \"e\"])"
   ]
  },
  {
   "cell_type": "code",
   "execution_count": 5,
   "id": "26d5298a",
   "metadata": {},
   "outputs": [],
   "source": [
    "from pandas_profiling import ProfileReport\n",
    "\n",
    "profile = ProfileReport(df1, title=\"Pandas Profiling Report\")"
   ]
  },
  {
   "cell_type": "code",
   "execution_count": 6,
   "id": "34e699e1",
   "metadata": {},
   "outputs": [
    {
     "data": {
      "application/vnd.jupyter.widget-view+json": {
       "model_id": "d77f8ba6cdd4431b9fd810d41eeb6254",
       "version_major": 2,
       "version_minor": 0
      },
      "text/plain": [
       "Summarize dataset:   0%|          | 0/5 [00:00<?, ?it/s]"
      ]
     },
     "metadata": {},
     "output_type": "display_data"
    },
    {
     "data": {
      "application/vnd.jupyter.widget-view+json": {
       "model_id": "cb41a498326f473ba33ce83c1239cb48",
       "version_major": 2,
       "version_minor": 0
      },
      "text/plain": [
       "Generate report structure:   0%|          | 0/1 [00:00<?, ?it/s]"
      ]
     },
     "metadata": {},
     "output_type": "display_data"
    },
    {
     "data": {
      "application/vnd.jupyter.widget-view+json": {
       "model_id": "",
       "version_major": 2,
       "version_minor": 0
      },
      "text/plain": [
       "Render widgets:   0%|          | 0/1 [00:00<?, ?it/s]"
      ]
     },
     "metadata": {},
     "output_type": "display_data"
    },
    {
     "data": {
      "application/vnd.jupyter.widget-view+json": {
       "model_id": "c89344e06b63495a8febb52f5430f68a",
       "version_major": 2,
       "version_minor": 0
      },
      "text/plain": [
       "VBox(children=(Tab(children=(Tab(children=(GridBox(children=(VBox(children=(GridspecLayout(children=(HTML(valu…"
      ]
     },
     "metadata": {},
     "output_type": "display_data"
    }
   ],
   "source": [
    "profile.to_widgets()"
   ]
  }
 ],
 "metadata": {
  "kernelspec": {
   "display_name": "Python 3 (ipykernel)",
   "language": "python",
   "name": "python3"
  },
  "language_info": {
   "codemirror_mode": {
    "name": "ipython",
    "version": 3
   },
   "file_extension": ".py",
   "mimetype": "text/x-python",
   "name": "python",
   "nbconvert_exporter": "python",
   "pygments_lexer": "ipython3",
   "version": "3.9.12"
  }
 },
 "nbformat": 4,
 "nbformat_minor": 5
}
